{
 "cells": [
  {
   "cell_type": "markdown",
   "metadata": {
    "id": "GQYV0kQbV4ka"
   },
   "source": [
    "# Data Cleaning and Exploratory Data Analysis"
   ]
  },
  {
   "cell_type": "code",
   "execution_count": null,
   "metadata": {},
   "outputs": [],
   "source": [
    "import numpy as\n",
    "import"
   ]
  }
 ],
 "metadata": {
  "colab": {
   "collapsed_sections": [],
   "name": "practice2a_ksm_fixed.ipynb",
   "provenance": []
  },
  "kernelspec": {
   "display_name": "base",
   "language": "python",
   "name": "python3"
  },
  "language_info": {
   "codemirror_mode": {
    "name": "ipython",
    "version": 3
   },
   "file_extension": ".py",
   "mimetype": "text/x-python",
   "name": "python",
   "nbconvert_exporter": "python",
   "pygments_lexer": "ipython3",
   "version": "3.13.5"
  },
  "otter": {
   "OK_FORMAT": true,
   "tests": {
    "q1": {
     "name": "q1",
     "points": [
      1,
      1,
      1,
      1,
      1,
      1,
      1,
      1,
      1,
      1
     ],
     "suites": [
      {
       "cases": [
        {
         "code": ">>> q1_1 == 37\nTrue",
         "hidden": false,
         "locked": false
        },
        {
         "code": ">>> q1_2 == 87\nTrue",
         "hidden": false,
         "locked": false
        },
        {
         "code": ">>> q1_3 == 99\nTrue",
         "hidden": false,
         "locked": false
        },
        {
         "code": ">>> q1_4 == [44, 70, 81, 47, 39, 75, 17, 35, 42, 78]\narray([ True,  True,  True,  True,  True,  True,  True,  True,  True,\n        True])",
         "hidden": false,
         "locked": false
        },
        {
         "code": ">>> import math\n>>> math.isclose(q1_5, 52.5, abs_tol=0.01)\nTrue",
         "hidden": false,
         "locked": false
        },
        {
         "code": ">>> q1_6 == 12\nTrue",
         "hidden": false,
         "locked": false
        },
        {
         "code": ">>> import math\n>>> math.isclose(q1_7, 59.16, abs_tol=0.01)\nTrue",
         "hidden": false,
         "locked": false
        },
        {
         "code": ">>> q1_8 == [9, 21, 36, 44, 47]\narray([ True,  True,  True,  True,  True])",
         "hidden": false,
         "locked": false
        },
        {
         "code": ">>> q1_9 == [9, 12, 9, 14, 9, 0, 1, 0, 3, 13]\narray([ True,  True,  True,  True,  True,  True,  True,  True,  True,\n        True])",
         "hidden": false,
         "locked": false
        },
        {
         "code": ">>> q1_10 == 3\nTrue",
         "hidden": false,
         "locked": false
        }
       ],
       "scored": true,
       "setup": "",
       "teardown": "",
       "type": "doctest"
      }
     ]
    },
    "q2": {
     "name": "q2",
     "points": [
      1,
      1,
      1,
      1,
      1,
      1,
      1,
      1
     ],
     "suites": [
      {
       "cases": [
        {
         "code": ">>> np.allclose(q2_1, [[3.52810469, 0.80031442], [1.95747597, 4.4817864], [3.73511598, -1.95455576], [1.90017684, -0.30271442], [-0.2064377, 0.821197]], atol=1e-05)\nTrue",
         "hidden": false,
         "locked": false
        },
        {
         "code": ">>> np.allclose(q2_2, [3.11188068, 0.95792804, 3.48777285, 0.902668, 0.01065413], atol=1e-05)\nTrue",
         "hidden": false,
         "locked": false
        },
        {
         "code": ">>> np.allclose(q2_3, [0.01555444, 1.85629043, -1.36188064, -0.53595997, 0.02599574], atol=1e-05)\nTrue",
         "hidden": false,
         "locked": false
        },
        {
         "code": ">>> round(q2_4, 5) == round(1.230297949608002, 5)\nTrue",
         "hidden": false,
         "locked": false
        },
        {
         "code": ">>> np.allclose(q2_5, [[1.76405235, 0.40015721], [1.86755799, -0.97727788], [0.95008842, -0.15135721]], atol=1e-05)\nTrue",
         "hidden": false,
         "locked": false
        },
        {
         "code": ">>> round(q2_6, 5) == round(1.8088688373462207, 5)\nTrue",
         "hidden": false,
         "locked": false
        },
        {
         "code": ">>> round(q2_7, 5) == round(2.001256514017904, 5)\nTrue",
         "hidden": false,
         "locked": false
        },
        {
         "code": ">>> np.allclose(q2_8, [0.0, 2.00125651, 1.38131852, 0.98321179, 1.86730039], atol=1e-05)\nTrue",
         "hidden": false,
         "locked": false
        }
       ],
       "scored": true,
       "setup": "",
       "teardown": "",
       "type": "doctest"
      }
     ]
    },
    "q3": {
     "name": "q3",
     "points": [
      1,
      1,
      1,
      1,
      1,
      1,
      1
     ],
     "suites": [
      {
       "cases": [
        {
         "code": ">>> import math\n>>> math.isclose(q3_1, -0.07, abs_tol=0.01)\nTrue",
         "hidden": false,
         "locked": false
        },
        {
         "code": ">>> def checkq32(q3_2):\n...     tmp = {2017: 0.92, 2018: 0.85, 2019: 0.98}\n...     flag = True\n...     for i, v in q3_2.items():\n...         flag = flag & (round(v, 2) == round(tmp[i], 2))\n...     return flag\n>>> checkq32(q3_2)\nTrue",
         "hidden": false,
         "locked": false
        },
        {
         "code": ">>> def checkq33(q3_3):\n...     tmp = {2017: 1.656, 2018: 1.53, 2019: 1.764}\n...     flag = True\n...     for i, v in q3_3.items():\n...         flag = flag & (round(v, 3) == round(tmp[i], 3))\n...     return flag\n>>> checkq33(q3_3)\nTrue",
         "hidden": false,
         "locked": false
        },
        {
         "code": ">>> round(q3_4, 5) == round(0.5923333333333335, 5)\nTrue",
         "hidden": false,
         "locked": false
        },
        {
         "code": ">>> q3_5 == 61\nTrue",
         "hidden": false,
         "locked": false
        },
        {
         "code": ">>> q3_6 == 46\nTrue",
         "hidden": false,
         "locked": false
        },
        {
         "code": ">>> def checkq37(q3_7):\n...     tmp = {2018: 0.85, 2015: 0.9, 2017: 0.92, 2019: 0.98, 2016: 1.01}\n...     flag = True\n...     for i, v in q3_7.items():\n...         flag = flag & (round(v, 2) == round(tmp[i], 2))\n...     return flag\n>>> checkq37(q3_7)\nTrue",
         "hidden": false,
         "locked": false
        }
       ],
       "scored": true,
       "setup": "",
       "teardown": "",
       "type": "doctest"
      }
     ]
    },
    "q4": {
     "name": "q4",
     "points": [
      1,
      1,
      1,
      1,
      1,
      1
     ],
     "suites": [
      {
       "cases": [
        {
         "code": ">>> def checkq41(q4_1):\n...     tmp = {'Happiness': 6.9396, 'Log GDP per capita': 10.925769, 'Social support': 0.914219, 'Healthy life expectancy': 68.2995, 'Freedom to make life choices': 0.84262, 'Generosity': 0.149892, 'Perceptions of corruption': 0.699715}\n...     flag = True\n...     for i, v in q4_1.items():\n...         flag = flag & (round(v, 3) == round(tmp[i], 3))\n...     return flag\n>>> checkq41(q4_1)\nTrue",
         "hidden": false,
         "locked": false
        },
        {
         "code": ">>> def checkq42(q4_2):\n...     tmp = {'Happiness': 6.0218, 'Log GDP per capita': 10.340017, 'Social support': 0.93473, 'Healthy life expectancy': 68.604958, 'Freedom to make life choices': 0.877709, 'Generosity': -0.111698, 'Perceptions of corruption': 0.623074}\n...     flag = True\n...     for i, v in q4_2.items():\n...         flag = flag & (round(v, 3) == round(tmp[i], 3))\n...     return flag\n>>> checkq42(q4_2)\nTrue",
         "hidden": false,
         "locked": false
        },
        {
         "code": ">>> round(q4_3, 5) == round(5.47323986284967, 5)\nTrue",
         "hidden": false,
         "locked": false
        },
        {
         "code": ">>> q4_4 == 53\nTrue",
         "hidden": false,
         "locked": false
        },
        {
         "code": ">>> q4_5 == 57\nTrue",
         "hidden": false,
         "locked": false
        },
        {
         "code": ">>> q4_6 == 5\nTrue",
         "hidden": false,
         "locked": false
        }
       ],
       "scored": true,
       "setup": "",
       "teardown": "",
       "type": "doctest"
      }
     ]
    }
   }
  }
 },
 "nbformat": 4,
 "nbformat_minor": 4
}
