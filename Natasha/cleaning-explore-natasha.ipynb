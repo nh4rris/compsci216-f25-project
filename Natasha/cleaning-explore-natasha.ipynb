{
 "cells": [
  {
   "cell_type": "markdown",
   "metadata": {
    "id": "GQYV0kQbV4ka"
   },
   "source": [
    "# Data Cleaning and Exploratory Data Analysis"
   ]
  },
  {
   "cell_type": "markdown",
   "metadata": {},
   "source": [
    "Important note: The 1 million rows dataset on spotify data DOES NOT have genre information. At least when checked most recently... Idk how this was overlooked, but basically since the 1 million songs dataset does not have any genre information, we cannot use that dataset to make analyses on genre or combine with the billboard charts dataset."
   ]
  },
  {
   "cell_type": "code",
   "execution_count": 12,
   "metadata": {},
   "outputs": [],
   "source": [
    "import numpy as np\n",
    "import pandas as pd\n",
    "from scipy import stats\n",
    "import seaborn as sns\n",
    "import matplotlib.pyplot as plt\n"
   ]
  },
  {
   "cell_type": "code",
   "execution_count": 3,
   "metadata": {},
   "outputs": [],
   "source": [
    "spotify = pd.read_csv(\"../data/spotify_tracks.csv\")\n",
    "billboard = pd.read_csv(\"../data/Hot 100.csv\")"
   ]
  },
  {
   "cell_type": "code",
   "execution_count": 4,
   "metadata": {},
   "outputs": [
    {
     "data": {
      "text/html": [
       "<div>\n",
       "<style scoped>\n",
       "    .dataframe tbody tr th:only-of-type {\n",
       "        vertical-align: middle;\n",
       "    }\n",
       "\n",
       "    .dataframe tbody tr th {\n",
       "        vertical-align: top;\n",
       "    }\n",
       "\n",
       "    .dataframe thead th {\n",
       "        text-align: right;\n",
       "    }\n",
       "</style>\n",
       "<table border=\"1\" class=\"dataframe\">\n",
       "  <thead>\n",
       "    <tr style=\"text-align: right;\">\n",
       "      <th></th>\n",
       "      <th>chart_position</th>\n",
       "      <th>chart_date</th>\n",
       "      <th>song</th>\n",
       "      <th>performer</th>\n",
       "      <th>song_id</th>\n",
       "      <th>instance</th>\n",
       "      <th>time_on_chart</th>\n",
       "      <th>consecutive_weeks</th>\n",
       "      <th>previous_week</th>\n",
       "      <th>peak_position</th>\n",
       "      <th>worst_position</th>\n",
       "      <th>chart_debut</th>\n",
       "      <th>chart_url</th>\n",
       "    </tr>\n",
       "  </thead>\n",
       "  <tbody>\n",
       "    <tr>\n",
       "      <th>0</th>\n",
       "      <td>84</td>\n",
       "      <td>1990-05-05</td>\n",
       "      <td>\"B\" Girls</td>\n",
       "      <td>Young And Restless</td>\n",
       "      <td>\"B\" GirlsYoung And Restless</td>\n",
       "      <td>1</td>\n",
       "      <td>1</td>\n",
       "      <td>1</td>\n",
       "      <td>NaN</td>\n",
       "      <td>84</td>\n",
       "      <td>84</td>\n",
       "      <td>1990-05-05</td>\n",
       "      <td>https://www.billboard.com/charts/hot-100/1990-...</td>\n",
       "    </tr>\n",
       "    <tr>\n",
       "      <th>1</th>\n",
       "      <td>78</td>\n",
       "      <td>1990-05-12</td>\n",
       "      <td>\"B\" Girls</td>\n",
       "      <td>Young And Restless</td>\n",
       "      <td>\"B\" GirlsYoung And Restless</td>\n",
       "      <td>1</td>\n",
       "      <td>2</td>\n",
       "      <td>2</td>\n",
       "      <td>84.0</td>\n",
       "      <td>78</td>\n",
       "      <td>84</td>\n",
       "      <td>1990-05-05</td>\n",
       "      <td>https://www.billboard.com/charts/hot-100/1990-...</td>\n",
       "    </tr>\n",
       "    <tr>\n",
       "      <th>2</th>\n",
       "      <td>68</td>\n",
       "      <td>1990-05-19</td>\n",
       "      <td>\"B\" Girls</td>\n",
       "      <td>Young And Restless</td>\n",
       "      <td>\"B\" GirlsYoung And Restless</td>\n",
       "      <td>1</td>\n",
       "      <td>3</td>\n",
       "      <td>3</td>\n",
       "      <td>78.0</td>\n",
       "      <td>68</td>\n",
       "      <td>84</td>\n",
       "      <td>1990-05-05</td>\n",
       "      <td>https://www.billboard.com/charts/hot-100/1990-...</td>\n",
       "    </tr>\n",
       "    <tr>\n",
       "      <th>3</th>\n",
       "      <td>60</td>\n",
       "      <td>1990-05-26</td>\n",
       "      <td>\"B\" Girls</td>\n",
       "      <td>Young And Restless</td>\n",
       "      <td>\"B\" GirlsYoung And Restless</td>\n",
       "      <td>1</td>\n",
       "      <td>4</td>\n",
       "      <td>4</td>\n",
       "      <td>68.0</td>\n",
       "      <td>60</td>\n",
       "      <td>84</td>\n",
       "      <td>1990-05-05</td>\n",
       "      <td>https://www.billboard.com/charts/hot-100/1990-...</td>\n",
       "    </tr>\n",
       "    <tr>\n",
       "      <th>4</th>\n",
       "      <td>58</td>\n",
       "      <td>1990-06-02</td>\n",
       "      <td>\"B\" Girls</td>\n",
       "      <td>Young And Restless</td>\n",
       "      <td>\"B\" GirlsYoung And Restless</td>\n",
       "      <td>1</td>\n",
       "      <td>5</td>\n",
       "      <td>5</td>\n",
       "      <td>60.0</td>\n",
       "      <td>58</td>\n",
       "      <td>84</td>\n",
       "      <td>1990-05-05</td>\n",
       "      <td>https://www.billboard.com/charts/hot-100/1990-...</td>\n",
       "    </tr>\n",
       "  </tbody>\n",
       "</table>\n",
       "</div>"
      ],
      "text/plain": [
       "   chart_position  chart_date       song           performer  \\\n",
       "0              84  1990-05-05  \"B\" Girls  Young And Restless   \n",
       "1              78  1990-05-12  \"B\" Girls  Young And Restless   \n",
       "2              68  1990-05-19  \"B\" Girls  Young And Restless   \n",
       "3              60  1990-05-26  \"B\" Girls  Young And Restless   \n",
       "4              58  1990-06-02  \"B\" Girls  Young And Restless   \n",
       "\n",
       "                       song_id  instance  time_on_chart  consecutive_weeks  \\\n",
       "0  \"B\" GirlsYoung And Restless         1              1                  1   \n",
       "1  \"B\" GirlsYoung And Restless         1              2                  2   \n",
       "2  \"B\" GirlsYoung And Restless         1              3                  3   \n",
       "3  \"B\" GirlsYoung And Restless         1              4                  4   \n",
       "4  \"B\" GirlsYoung And Restless         1              5                  5   \n",
       "\n",
       "   previous_week  peak_position  worst_position chart_debut  \\\n",
       "0            NaN             84              84  1990-05-05   \n",
       "1           84.0             78              84  1990-05-05   \n",
       "2           78.0             68              84  1990-05-05   \n",
       "3           68.0             60              84  1990-05-05   \n",
       "4           60.0             58              84  1990-05-05   \n",
       "\n",
       "                                           chart_url  \n",
       "0  https://www.billboard.com/charts/hot-100/1990-...  \n",
       "1  https://www.billboard.com/charts/hot-100/1990-...  \n",
       "2  https://www.billboard.com/charts/hot-100/1990-...  \n",
       "3  https://www.billboard.com/charts/hot-100/1990-...  \n",
       "4  https://www.billboard.com/charts/hot-100/1990-...  "
      ]
     },
     "execution_count": 4,
     "metadata": {},
     "output_type": "execute_result"
    }
   ],
   "source": [
    "billboard.head(5)"
   ]
  },
  {
   "cell_type": "code",
   "execution_count": 5,
   "metadata": {},
   "outputs": [
    {
     "data": {
      "text/html": [
       "<div>\n",
       "<style scoped>\n",
       "    .dataframe tbody tr th:only-of-type {\n",
       "        vertical-align: middle;\n",
       "    }\n",
       "\n",
       "    .dataframe tbody tr th {\n",
       "        vertical-align: top;\n",
       "    }\n",
       "\n",
       "    .dataframe thead th {\n",
       "        text-align: right;\n",
       "    }\n",
       "</style>\n",
       "<table border=\"1\" class=\"dataframe\">\n",
       "  <thead>\n",
       "    <tr style=\"text-align: right;\">\n",
       "      <th></th>\n",
       "      <th>Unnamed: 0</th>\n",
       "      <th>track_id</th>\n",
       "      <th>artists</th>\n",
       "      <th>album_name</th>\n",
       "      <th>track_name</th>\n",
       "      <th>popularity</th>\n",
       "      <th>duration_ms</th>\n",
       "      <th>explicit</th>\n",
       "      <th>danceability</th>\n",
       "      <th>energy</th>\n",
       "      <th>...</th>\n",
       "      <th>loudness</th>\n",
       "      <th>mode</th>\n",
       "      <th>speechiness</th>\n",
       "      <th>acousticness</th>\n",
       "      <th>instrumentalness</th>\n",
       "      <th>liveness</th>\n",
       "      <th>valence</th>\n",
       "      <th>tempo</th>\n",
       "      <th>time_signature</th>\n",
       "      <th>track_genre</th>\n",
       "    </tr>\n",
       "  </thead>\n",
       "  <tbody>\n",
       "    <tr>\n",
       "      <th>0</th>\n",
       "      <td>0</td>\n",
       "      <td>5SuOikwiRyPMVoIQDJUgSV</td>\n",
       "      <td>Gen Hoshino</td>\n",
       "      <td>Comedy</td>\n",
       "      <td>Comedy</td>\n",
       "      <td>73</td>\n",
       "      <td>230666</td>\n",
       "      <td>False</td>\n",
       "      <td>0.676</td>\n",
       "      <td>0.4610</td>\n",
       "      <td>...</td>\n",
       "      <td>-6.746</td>\n",
       "      <td>0</td>\n",
       "      <td>0.1430</td>\n",
       "      <td>0.0322</td>\n",
       "      <td>0.000001</td>\n",
       "      <td>0.3580</td>\n",
       "      <td>0.715</td>\n",
       "      <td>87.917</td>\n",
       "      <td>4</td>\n",
       "      <td>acoustic</td>\n",
       "    </tr>\n",
       "    <tr>\n",
       "      <th>1</th>\n",
       "      <td>1</td>\n",
       "      <td>4qPNDBW1i3p13qLCt0Ki3A</td>\n",
       "      <td>Ben Woodward</td>\n",
       "      <td>Ghost (Acoustic)</td>\n",
       "      <td>Ghost - Acoustic</td>\n",
       "      <td>55</td>\n",
       "      <td>149610</td>\n",
       "      <td>False</td>\n",
       "      <td>0.420</td>\n",
       "      <td>0.1660</td>\n",
       "      <td>...</td>\n",
       "      <td>-17.235</td>\n",
       "      <td>1</td>\n",
       "      <td>0.0763</td>\n",
       "      <td>0.9240</td>\n",
       "      <td>0.000006</td>\n",
       "      <td>0.1010</td>\n",
       "      <td>0.267</td>\n",
       "      <td>77.489</td>\n",
       "      <td>4</td>\n",
       "      <td>acoustic</td>\n",
       "    </tr>\n",
       "    <tr>\n",
       "      <th>2</th>\n",
       "      <td>2</td>\n",
       "      <td>1iJBSr7s7jYXzM8EGcbK5b</td>\n",
       "      <td>Ingrid Michaelson;ZAYN</td>\n",
       "      <td>To Begin Again</td>\n",
       "      <td>To Begin Again</td>\n",
       "      <td>57</td>\n",
       "      <td>210826</td>\n",
       "      <td>False</td>\n",
       "      <td>0.438</td>\n",
       "      <td>0.3590</td>\n",
       "      <td>...</td>\n",
       "      <td>-9.734</td>\n",
       "      <td>1</td>\n",
       "      <td>0.0557</td>\n",
       "      <td>0.2100</td>\n",
       "      <td>0.000000</td>\n",
       "      <td>0.1170</td>\n",
       "      <td>0.120</td>\n",
       "      <td>76.332</td>\n",
       "      <td>4</td>\n",
       "      <td>acoustic</td>\n",
       "    </tr>\n",
       "    <tr>\n",
       "      <th>3</th>\n",
       "      <td>3</td>\n",
       "      <td>6lfxq3CG4xtTiEg7opyCyx</td>\n",
       "      <td>Kina Grannis</td>\n",
       "      <td>Crazy Rich Asians (Original Motion Picture Sou...</td>\n",
       "      <td>Can't Help Falling In Love</td>\n",
       "      <td>71</td>\n",
       "      <td>201933</td>\n",
       "      <td>False</td>\n",
       "      <td>0.266</td>\n",
       "      <td>0.0596</td>\n",
       "      <td>...</td>\n",
       "      <td>-18.515</td>\n",
       "      <td>1</td>\n",
       "      <td>0.0363</td>\n",
       "      <td>0.9050</td>\n",
       "      <td>0.000071</td>\n",
       "      <td>0.1320</td>\n",
       "      <td>0.143</td>\n",
       "      <td>181.740</td>\n",
       "      <td>3</td>\n",
       "      <td>acoustic</td>\n",
       "    </tr>\n",
       "    <tr>\n",
       "      <th>4</th>\n",
       "      <td>4</td>\n",
       "      <td>5vjLSffimiIP26QG5WcN2K</td>\n",
       "      <td>Chord Overstreet</td>\n",
       "      <td>Hold On</td>\n",
       "      <td>Hold On</td>\n",
       "      <td>82</td>\n",
       "      <td>198853</td>\n",
       "      <td>False</td>\n",
       "      <td>0.618</td>\n",
       "      <td>0.4430</td>\n",
       "      <td>...</td>\n",
       "      <td>-9.681</td>\n",
       "      <td>1</td>\n",
       "      <td>0.0526</td>\n",
       "      <td>0.4690</td>\n",
       "      <td>0.000000</td>\n",
       "      <td>0.0829</td>\n",
       "      <td>0.167</td>\n",
       "      <td>119.949</td>\n",
       "      <td>4</td>\n",
       "      <td>acoustic</td>\n",
       "    </tr>\n",
       "  </tbody>\n",
       "</table>\n",
       "<p>5 rows × 21 columns</p>\n",
       "</div>"
      ],
      "text/plain": [
       "   Unnamed: 0                track_id                 artists  \\\n",
       "0           0  5SuOikwiRyPMVoIQDJUgSV             Gen Hoshino   \n",
       "1           1  4qPNDBW1i3p13qLCt0Ki3A            Ben Woodward   \n",
       "2           2  1iJBSr7s7jYXzM8EGcbK5b  Ingrid Michaelson;ZAYN   \n",
       "3           3  6lfxq3CG4xtTiEg7opyCyx            Kina Grannis   \n",
       "4           4  5vjLSffimiIP26QG5WcN2K        Chord Overstreet   \n",
       "\n",
       "                                          album_name  \\\n",
       "0                                             Comedy   \n",
       "1                                   Ghost (Acoustic)   \n",
       "2                                     To Begin Again   \n",
       "3  Crazy Rich Asians (Original Motion Picture Sou...   \n",
       "4                                            Hold On   \n",
       "\n",
       "                   track_name  popularity  duration_ms  explicit  \\\n",
       "0                      Comedy          73       230666     False   \n",
       "1            Ghost - Acoustic          55       149610     False   \n",
       "2              To Begin Again          57       210826     False   \n",
       "3  Can't Help Falling In Love          71       201933     False   \n",
       "4                     Hold On          82       198853     False   \n",
       "\n",
       "   danceability  energy  ...  loudness  mode  speechiness  acousticness  \\\n",
       "0         0.676  0.4610  ...    -6.746     0       0.1430        0.0322   \n",
       "1         0.420  0.1660  ...   -17.235     1       0.0763        0.9240   \n",
       "2         0.438  0.3590  ...    -9.734     1       0.0557        0.2100   \n",
       "3         0.266  0.0596  ...   -18.515     1       0.0363        0.9050   \n",
       "4         0.618  0.4430  ...    -9.681     1       0.0526        0.4690   \n",
       "\n",
       "   instrumentalness  liveness  valence    tempo  time_signature  track_genre  \n",
       "0          0.000001    0.3580    0.715   87.917               4     acoustic  \n",
       "1          0.000006    0.1010    0.267   77.489               4     acoustic  \n",
       "2          0.000000    0.1170    0.120   76.332               4     acoustic  \n",
       "3          0.000071    0.1320    0.143  181.740               3     acoustic  \n",
       "4          0.000000    0.0829    0.167  119.949               4     acoustic  \n",
       "\n",
       "[5 rows x 21 columns]"
      ]
     },
     "execution_count": 5,
     "metadata": {},
     "output_type": "execute_result"
    }
   ],
   "source": [
    "spotify.head(5)"
   ]
  },
  {
   "cell_type": "code",
   "execution_count": 6,
   "metadata": {},
   "outputs": [],
   "source": [
    "# Remove duplicates by track_name and keep the first occurrence\n",
    "genre = spotify.drop_duplicates(subset=\"track_name\")[[\"track_name\", \"track_genre\"]]\n",
    "\n",
    "# Left join to keep all billboard songs and bring in genre info\n",
    "billboard_genre = pd.merge(billboard, genre, how=\"left\", left_on=\"song\", right_on=\"track_name\")"
   ]
  },
  {
   "cell_type": "code",
   "execution_count": 7,
   "metadata": {},
   "outputs": [],
   "source": [
    "# Distinct songs in billboard\n",
    "distinct_billboard = billboard.drop_duplicates(subset=\"song\")\n",
    "\n",
    "# Filter rows where track_genre is not missing (i.e., not NA)\n",
    "distinct_billboard_genre = billboard_genre[billboard_genre[\"track_genre\"].notna()]\n"
   ]
  },
  {
   "cell_type": "code",
   "execution_count": 8,
   "metadata": {},
   "outputs": [
    {
     "name": "stderr",
     "output_type": "stream",
     "text": [
      "C:\\Users\\natth\\AppData\\Local\\Temp\\ipykernel_49856\\1742980955.py:2: SettingWithCopyWarning: \n",
      "A value is trying to be set on a copy of a slice from a DataFrame.\n",
      "Try using .loc[row_indexer,col_indexer] = value instead\n",
      "\n",
      "See the caveats in the documentation: https://pandas.pydata.org/pandas-docs/stable/user_guide/indexing.html#returning-a-view-versus-a-copy\n",
      "  distinct_billboard_genre[\"chart_date\"] = pd.to_datetime(distinct_billboard_genre[\"chart_date\"])\n",
      "C:\\Users\\natth\\AppData\\Local\\Temp\\ipykernel_49856\\1742980955.py:3: SettingWithCopyWarning: \n",
      "A value is trying to be set on a copy of a slice from a DataFrame.\n",
      "Try using .loc[row_indexer,col_indexer] = value instead\n",
      "\n",
      "See the caveats in the documentation: https://pandas.pydata.org/pandas-docs/stable/user_guide/indexing.html#returning-a-view-versus-a-copy\n",
      "  distinct_billboard_genre[\"year\"] = distinct_billboard_genre[\"chart_date\"].dt.year\n"
     ]
    },
    {
     "data": {
      "text/html": [
       "<div>\n",
       "<style scoped>\n",
       "    .dataframe tbody tr th:only-of-type {\n",
       "        vertical-align: middle;\n",
       "    }\n",
       "\n",
       "    .dataframe tbody tr th {\n",
       "        vertical-align: top;\n",
       "    }\n",
       "\n",
       "    .dataframe thead th {\n",
       "        text-align: right;\n",
       "    }\n",
       "</style>\n",
       "<table border=\"1\" class=\"dataframe\">\n",
       "  <thead>\n",
       "    <tr style=\"text-align: right;\">\n",
       "      <th></th>\n",
       "      <th>year</th>\n",
       "      <th>count</th>\n",
       "    </tr>\n",
       "  </thead>\n",
       "  <tbody>\n",
       "    <tr>\n",
       "      <th>67</th>\n",
       "      <td>2025</td>\n",
       "      <td>49</td>\n",
       "    </tr>\n",
       "    <tr>\n",
       "      <th>66</th>\n",
       "      <td>2024</td>\n",
       "      <td>79</td>\n",
       "    </tr>\n",
       "    <tr>\n",
       "      <th>65</th>\n",
       "      <td>2023</td>\n",
       "      <td>60</td>\n",
       "    </tr>\n",
       "    <tr>\n",
       "      <th>64</th>\n",
       "      <td>2022</td>\n",
       "      <td>148</td>\n",
       "    </tr>\n",
       "    <tr>\n",
       "      <th>63</th>\n",
       "      <td>2021</td>\n",
       "      <td>133</td>\n",
       "    </tr>\n",
       "    <tr>\n",
       "      <th>...</th>\n",
       "      <td>...</td>\n",
       "      <td>...</td>\n",
       "    </tr>\n",
       "    <tr>\n",
       "      <th>4</th>\n",
       "      <td>1962</td>\n",
       "      <td>50</td>\n",
       "    </tr>\n",
       "    <tr>\n",
       "      <th>3</th>\n",
       "      <td>1961</td>\n",
       "      <td>78</td>\n",
       "    </tr>\n",
       "    <tr>\n",
       "      <th>2</th>\n",
       "      <td>1960</td>\n",
       "      <td>62</td>\n",
       "    </tr>\n",
       "    <tr>\n",
       "      <th>1</th>\n",
       "      <td>1959</td>\n",
       "      <td>47</td>\n",
       "    </tr>\n",
       "    <tr>\n",
       "      <th>0</th>\n",
       "      <td>1958</td>\n",
       "      <td>37</td>\n",
       "    </tr>\n",
       "  </tbody>\n",
       "</table>\n",
       "<p>68 rows × 2 columns</p>\n",
       "</div>"
      ],
      "text/plain": [
       "    year  count\n",
       "67  2025     49\n",
       "66  2024     79\n",
       "65  2023     60\n",
       "64  2022    148\n",
       "63  2021    133\n",
       "..   ...    ...\n",
       "4   1962     50\n",
       "3   1961     78\n",
       "2   1960     62\n",
       "1   1959     47\n",
       "0   1958     37\n",
       "\n",
       "[68 rows x 2 columns]"
      ]
     },
     "execution_count": 8,
     "metadata": {},
     "output_type": "execute_result"
    }
   ],
   "source": [
    "# Extract year from chart_date and count songs per year\n",
    "distinct_billboard_genre[\"chart_date\"] = pd.to_datetime(distinct_billboard_genre[\"chart_date\"])\n",
    "distinct_billboard_genre[\"year\"] = distinct_billboard_genre[\"chart_date\"].dt.year\n",
    "\n",
    "songs_per_year = (\n",
    "    distinct_billboard_genre\n",
    "    .drop_duplicates(subset=\"song\")\n",
    "    .groupby(\"year\")\n",
    "    .size()\n",
    "    .reset_index(name=\"count\")\n",
    "    .sort_values(\"year\", ascending=False)\n",
    ")\n",
    "songs_per_year\n"
   ]
  },
  {
   "cell_type": "code",
   "execution_count": 9,
   "metadata": {},
   "outputs": [
    {
     "data": {
      "text/html": [
       "<div>\n",
       "<style scoped>\n",
       "    .dataframe tbody tr th:only-of-type {\n",
       "        vertical-align: middle;\n",
       "    }\n",
       "\n",
       "    .dataframe tbody tr th {\n",
       "        vertical-align: top;\n",
       "    }\n",
       "\n",
       "    .dataframe thead th {\n",
       "        text-align: right;\n",
       "    }\n",
       "</style>\n",
       "<table border=\"1\" class=\"dataframe\">\n",
       "  <thead>\n",
       "    <tr style=\"text-align: right;\">\n",
       "      <th></th>\n",
       "      <th>count</th>\n",
       "      <th>count</th>\n",
       "    </tr>\n",
       "  </thead>\n",
       "  <tbody>\n",
       "    <tr>\n",
       "      <th>0</th>\n",
       "      <td>acoustic</td>\n",
       "      <td>221</td>\n",
       "    </tr>\n",
       "    <tr>\n",
       "      <th>1</th>\n",
       "      <td>country</td>\n",
       "      <td>170</td>\n",
       "    </tr>\n",
       "    <tr>\n",
       "      <th>2</th>\n",
       "      <td>dance</td>\n",
       "      <td>164</td>\n",
       "    </tr>\n",
       "    <tr>\n",
       "      <th>3</th>\n",
       "      <td>blues</td>\n",
       "      <td>158</td>\n",
       "    </tr>\n",
       "    <tr>\n",
       "      <th>4</th>\n",
       "      <td>alt-rock</td>\n",
       "      <td>140</td>\n",
       "    </tr>\n",
       "    <tr>\n",
       "      <th>...</th>\n",
       "      <td>...</td>\n",
       "      <td>...</td>\n",
       "    </tr>\n",
       "    <tr>\n",
       "      <th>106</th>\n",
       "      <td>samba</td>\n",
       "      <td>2</td>\n",
       "    </tr>\n",
       "    <tr>\n",
       "      <th>107</th>\n",
       "      <td>reggaeton</td>\n",
       "      <td>2</td>\n",
       "    </tr>\n",
       "    <tr>\n",
       "      <th>108</th>\n",
       "      <td>indie</td>\n",
       "      <td>2</td>\n",
       "    </tr>\n",
       "    <tr>\n",
       "      <th>109</th>\n",
       "      <td>forro</td>\n",
       "      <td>2</td>\n",
       "    </tr>\n",
       "    <tr>\n",
       "      <th>110</th>\n",
       "      <td>sertanejo</td>\n",
       "      <td>1</td>\n",
       "    </tr>\n",
       "  </tbody>\n",
       "</table>\n",
       "<p>111 rows × 2 columns</p>\n",
       "</div>"
      ],
      "text/plain": [
       "         count  count\n",
       "0     acoustic    221\n",
       "1      country    170\n",
       "2        dance    164\n",
       "3        blues    158\n",
       "4     alt-rock    140\n",
       "..         ...    ...\n",
       "106      samba      2\n",
       "107  reggaeton      2\n",
       "108      indie      2\n",
       "109      forro      2\n",
       "110  sertanejo      1\n",
       "\n",
       "[111 rows x 2 columns]"
      ]
     },
     "execution_count": 9,
     "metadata": {},
     "output_type": "execute_result"
    }
   ],
   "source": [
    "# Count distinct songs by genre\n",
    "songs_per_genre = (\n",
    "    distinct_billboard_genre\n",
    "    .drop_duplicates(subset=\"song\")\n",
    "    [\"track_genre\"]\n",
    "    .value_counts()\n",
    "    .reset_index()\n",
    "    .rename(columns={\"index\": \"track_genre\", \"track_genre\": \"count\"})\n",
    ")\n",
    "songs_per_genre"
   ]
  },
  {
   "cell_type": "code",
   "execution_count": 17,
   "metadata": {},
   "outputs": [
    {
     "data": {
      "image/png": "[encoded data removed]",
      "text/plain": [
       "<Figure size 1000x800 with 2 Axes>"
      ]
     },
     "metadata": {},
     "output_type": "display_data"
    }
   ],
   "source": [
    "audio_features = [\n",
    "    'danceability', 'energy', 'speechiness', 'acousticness',\n",
    "    'instrumentalness', 'liveness', 'valence', 'tempo', 'loudness'\n",
    "]\n",
    "\n",
    "# Compute correlation matrix for popularity and audio features\n",
    "corr_matrix = spotify[['popularity'] + audio_features].corr()\n",
    "\n",
    "# Plot the heatmap\n",
    "plt.figure(figsize=(10, 8))\n",
    "sns.heatmap(corr_matrix, annot=True, cmap='coolwarm', fmt=\".2f\", center=0)\n",
    "plt.title(\"Correlation Heatmap: Popularity vs Audio Features\", fontsize=14)\n",
    "plt.show()\n",
    "\n",
    "#this heatmap is useless\n"
   ]
  },
  {
   "cell_type": "code",
   "execution_count": null,
   "metadata": {},
   "outputs": [
    {
     "name": "stderr",
     "output_type": "stream",
     "text": [
      "C:\\Users\\natth\\AppData\\Local\\Temp\\ipykernel_49856\\773324276.py:5: FutureWarning: \n",
      "\n",
      "Passing `palette` without assigning `hue` is deprecated and will be removed in v0.14.0. Assign the `y` variable to `hue` and set `legend=False` for the same effect.\n",
      "\n",
      "  sns.barplot(x=corr.values, y=corr.index, palette='coolwarm')\n"
     ]
    },
    {
     "data": {
      "image/png": "[encoded data removed]",
      "text/plain": [
       "<Figure size 800x600 with 1 Axes>"
      ]
     },
     "metadata": {},
     "output_type": "display_data"
    }
   ],
   "source": [
    "\n",
    "corr = spotify[['popularity'] + audio_features].corr()['popularity'].drop('popularity')\n",
    "corr = corr.sort_values(ascending=False)\n",
    "\n",
    "plt.figure(figsize=(8,6))\n",
    "sns.barplot(x=corr.values, y=corr.index, palette='coolwarm')\n",
    "plt.title('Correlation between Audio Features with Popularity', fontsize=14)\n",
    "plt.xlabel('Correlation Coefficient')\n",
    "plt.ylabel('Audio Feature')\n",
    "plt.show()"
   ]
  },
  {
   "cell_type": "code",
   "execution_count": null,
   "metadata": {},
   "outputs": [],
   "source": []
  },
  {
   "cell_type": "markdown",
   "metadata": {},
   "source": [
    "FOR ANYONE LOOKING, DO NOT RUN THE SCRIPT BELOW"
   ]
  },
  {
   "cell_type": "code",
   "execution_count": 10,
   "metadata": {},
   "outputs": [
    {
     "name": "stdout",
     "output_type": "stream",
     "text": [
      "Using existing in-memory 'billboard' DataFrame\n",
      "✅ Found existing cache file: C:\\temp\\spotify_genre_cache.csv\n",
      "   → 2,167 rows already processed.\n",
      "\n",
      "Last 5 cached entries:\n",
      "                         title     performer               track_id             artist_ids                               artist_genres spotify_found\n",
      "                     baby toys      the toys 6JfKbTsIYPMBKySCIDIX8D 6lH5PpuiMa5SpfjoIOlwCS                northern soul;doo-wop;motown          True\n",
      "                    baby u are gerald levert 4z9aQnKnoM0cDrLkUXdbPr 7BLOa6FxCbMnowidkQfLIA                                 quiet storm          True\n",
      "baby what do you want me to do barbara lewis 4rwqam3s5xzOqOJNyqwCZU 2UocIcNiHj5n4tj1CnBzRq                       northern soul;doo-wop          True\n",
      "              baby what i mean  the drifters 2UMgscB9C4Cr84UxUUso1e 1FqqOl9itIUpXr4jZPIVoT                              doo-wop;motown          True\n",
      "   baby what you want me to do    etta james 53DUNiLcyYOs9OuSAOIU7I 0iOVhN3tnSvgDbcg25JoJb soul;jazz blues;soul blues;blues;vocal jazz          True\n",
      "🔁 Will skip 2,167 already-processed (title, performer) pairs.\n",
      "\n",
      "Total unique pairs: 32,124\n",
      "Already done (in cache): 2,168\n",
      "Remaining to process: 29,956\n",
      "\n",
      "First few remaining (song, performer):\n",
      "                                  song                      performer\n",
      "           Baby What You Want Me To Do                     Jimmy Reed\n",
      "Baby Won't You Let Me Rock 'N Roll You                Ten Years After\n",
      "                          Baby Workout                  Jackie Wilson\n",
      "  Baby You Come Rollin' Across My Mind The Peppermint Trolley Company\n",
      "                       Baby You Got It                   Brenton Wood\n"
     ]
    },
    {
     "name": "stderr",
     "output_type": "stream",
     "text": [
      "  0%|          | 99/29956 [02:40<13:09:34,  1.59s/it]"
     ]
    },
    {
     "name": "stdout",
     "output_type": "stream",
     "text": [
      "[99] checkpoint: saving cache (2267 rows) -> C:\\temp\\spotify_genre_cache.csv\n"
     ]
    },
    {
     "name": "stderr",
     "output_type": "stream",
     "text": [
      "  1%|          | 199/29956 [05:27<13:21:10,  1.62s/it]"
     ]
    },
    {
     "name": "stdout",
     "output_type": "stream",
     "text": [
      "[199] checkpoint: saving cache (2367 rows) -> C:\\temp\\spotify_genre_cache.csv\n"
     ]
    },
    {
     "name": "stderr",
     "output_type": "stream",
     "text": [
      "  1%|          | 299/29956 [08:13<13:31:48,  1.64s/it]"
     ]
    },
    {
     "name": "stdout",
     "output_type": "stream",
     "text": [
      "[299] checkpoint: saving cache (2467 rows) -> C:\\temp\\spotify_genre_cache.csv\n"
     ]
    },
    {
     "name": "stderr",
     "output_type": "stream",
     "text": [
      "  1%|▏         | 399/29956 [10:58<13:07:11,  1.60s/it]"
     ]
    },
    {
     "name": "stdout",
     "output_type": "stream",
     "text": [
      "[399] checkpoint: saving cache (2567 rows) -> C:\\temp\\spotify_genre_cache.csv\n"
     ]
    },
    {
     "name": "stderr",
     "output_type": "stream",
     "text": [
      "  2%|▏         | 499/29956 [13:44<14:12:27,  1.74s/it]"
     ]
    },
    {
     "name": "stdout",
     "output_type": "stream",
     "text": [
      "[499] checkpoint: saving cache (2667 rows) -> C:\\temp\\spotify_genre_cache.csv\n"
     ]
    },
    {
     "name": "stderr",
     "output_type": "stream",
     "text": [
      "  2%|▏         | 599/29956 [16:28<13:13:48,  1.62s/it]"
     ]
    },
    {
     "name": "stdout",
     "output_type": "stream",
     "text": [
      "[599] checkpoint: saving cache (2767 rows) -> C:\\temp\\spotify_genre_cache.csv\n"
     ]
    },
    {
     "name": "stderr",
     "output_type": "stream",
     "text": [
      "  2%|▏         | 699/29956 [19:13<13:59:55,  1.72s/it]"
     ]
    },
    {
     "name": "stdout",
     "output_type": "stream",
     "text": [
      "[699] checkpoint: saving cache (2867 rows) -> C:\\temp\\spotify_genre_cache.csv\n"
     ]
    },
    {
     "name": "stderr",
     "output_type": "stream",
     "text": [
      "  3%|▎         | 799/29956 [21:57<13:23:38,  1.65s/it]"
     ]
    },
    {
     "name": "stdout",
     "output_type": "stream",
     "text": [
      "[799] checkpoint: saving cache (2967 rows) -> C:\\temp\\spotify_genre_cache.csv\n"
     ]
    },
    {
     "name": "stderr",
     "output_type": "stream",
     "text": [
      "  3%|▎         | 899/29956 [24:37<12:31:37,  1.55s/it]"
     ]
    },
    {
     "name": "stdout",
     "output_type": "stream",
     "text": [
      "[899] checkpoint: saving cache (3067 rows) -> C:\\temp\\spotify_genre_cache.csv\n"
     ]
    },
    {
     "name": "stderr",
     "output_type": "stream",
     "text": [
      "  3%|▎         | 999/29956 [27:17<13:27:00,  1.67s/it]"
     ]
    },
    {
     "name": "stdout",
     "output_type": "stream",
     "text": [
      "[999] checkpoint: saving cache (3167 rows) -> C:\\temp\\spotify_genre_cache.csv\n"
     ]
    },
    {
     "name": "stderr",
     "output_type": "stream",
     "text": [
      "  4%|▎         | 1099/29956 [29:59<12:39:14,  1.58s/it]"
     ]
    },
    {
     "name": "stdout",
     "output_type": "stream",
     "text": [
      "[1099] checkpoint: saving cache (3267 rows) -> C:\\temp\\spotify_genre_cache.csv\n"
     ]
    },
    {
     "name": "stderr",
     "output_type": "stream",
     "text": [
      "  4%|▍         | 1199/29956 [32:44<13:50:38,  1.73s/it]"
     ]
    },
    {
     "name": "stdout",
     "output_type": "stream",
     "text": [
      "[1199] checkpoint: saving cache (3367 rows) -> C:\\temp\\spotify_genre_cache.csv\n"
     ]
    },
    {
     "name": "stderr",
     "output_type": "stream",
     "text": [
      "  4%|▍         | 1299/29956 [35:27<12:41:27,  1.59s/it]"
     ]
    },
    {
     "name": "stdout",
     "output_type": "stream",
     "text": [
      "[1299] checkpoint: saving cache (3467 rows) -> C:\\temp\\spotify_genre_cache.csv\n"
     ]
    },
    {
     "name": "stderr",
     "output_type": "stream",
     "text": [
      "  5%|▍         | 1399/29956 [38:12<12:53:57,  1.63s/it]"
     ]
    },
    {
     "name": "stdout",
     "output_type": "stream",
     "text": [
      "[1399] checkpoint: saving cache (3567 rows) -> C:\\temp\\spotify_genre_cache.csv\n"
     ]
    },
    {
     "name": "stderr",
     "output_type": "stream",
     "text": [
      "  5%|▌         | 1499/29956 [40:55<12:52:25,  1.63s/it]"
     ]
    },
    {
     "name": "stdout",
     "output_type": "stream",
     "text": [
      "[1499] checkpoint: saving cache (3667 rows) -> C:\\temp\\spotify_genre_cache.csv\n"
     ]
    },
    {
     "name": "stderr",
     "output_type": "stream",
     "text": [
      "  5%|▌         | 1571/29956 [42:56<12:55:45,  1.64s/it]\n"
     ]
    },
    {
     "name": "stdout",
     "output_type": "stream",
     "text": [
      "Interrupted by user — saving cache before exiting...\n"
     ]
    },
    {
     "ename": "KeyboardInterrupt",
     "evalue": "",
     "output_type": "error",
     "traceback": [
      "\u001b[1;31m---------------------------------------------------------------------------\u001b[0m",
      "\u001b[1;31mKeyboardInterrupt\u001b[0m                         Traceback (most recent call last)",
      "Cell \u001b[1;32mIn[10], line 253\u001b[0m\n\u001b[0;32m    250\u001b[0m                 traceback\u001b[38;5;241m.\u001b[39mprint_exc(limit\u001b[38;5;241m=\u001b[39m\u001b[38;5;241m1\u001b[39m)\n\u001b[0;32m    251\u001b[0m             processed_since_save \u001b[38;5;241m=\u001b[39m \u001b[38;5;241m0\u001b[39m\n\u001b[1;32m--> 253\u001b[0m         time\u001b[38;5;241m.\u001b[39msleep(BASE_SLEEP)\n\u001b[0;32m    255\u001b[0m \u001b[38;5;28;01mexcept\u001b[39;00m \u001b[38;5;167;01mKeyboardInterrupt\u001b[39;00m:\n\u001b[0;32m    256\u001b[0m     \u001b[38;5;28mprint\u001b[39m(\u001b[38;5;124m\"\u001b[39m\u001b[38;5;124mInterrupted by user — saving cache before exiting...\u001b[39m\u001b[38;5;124m\"\u001b[39m)\n",
      "\u001b[1;31mKeyboardInterrupt\u001b[0m: "
     ]
    }
   ],
   "source": [
    "# spotify_genre_full_pipeline.py\n",
    "## DO NOT RUN THIS CODE. MUST WAIT 21 HOURS BEFORE NEXT API REQUEST\n",
    "\"\"\"\n",
    "Resumable Spotify genre lookup for Billboard dataset (single-file).\n",
    "- Reads billboard.csv (expects columns including 'song' and 'performer').\n",
    "- Caches results to CACHE_PATH (resumable).\n",
    "- Handles retries, 429 Retry-After, exponential backoff.\n",
    "- Merges cached results back into Billboard and writes final CSV.\n",
    "\"\"\"\n",
    "\n",
    "import os\n",
    "import time\n",
    "import random\n",
    "import tempfile\n",
    "import shutil\n",
    "import traceback\n",
    "import pandas as pd\n",
    "from tqdm import tqdm\n",
    "from spotipy import Spotify\n",
    "from spotipy.oauth2 import SpotifyClientCredentials\n",
    "from requests.exceptions import ReadTimeout, ConnectionError, HTTPError\n",
    "\n",
    "# ---------- CONFIG ----------\n",
    "# Either set these env vars before running, or uncomment and fill here:\n",
    "os.environ[\"SPOTIPY_CLIENT_ID\"] = \"80635eb4e0584b5491cb49e459922e36\"\n",
    "os.environ[\"SPOTIPY_CLIENT_SECRET\"] = \"0abb772e1278448d937cbfbefa4fbe20\"\n",
    "\n",
    "BILLBOARD_CSV = \"Hot 100.csv\"   # input (must contain 'song' and 'performer')\n",
    "CACHE_PATH = r\"C:\\temp\\spotify_genre_cache.csv\"   # non-OneDrive cache (resumable)\n",
    "OUTPUT_PATH = r\"C:\\temp\\hot100_with_spotify_genres.csv\"  # merged output\n",
    "CHECKPOINT_EVERY = 100\n",
    "REQUESTS_TIMEOUT = 30\n",
    "RETRIES = 5\n",
    "BASE_SLEEP = 1.2         # polite delay between requests\n",
    "LIMIT_SONGS_FOR_TEST = None  # set to e.g. 100 to test only first 100 songs, or None for all\n",
    "\n",
    "# ---------- HELPERS ----------\n",
    "def normalize(s):\n",
    "    if pd.isna(s):\n",
    "        return \"\"\n",
    "    return \" \".join(str(s).lower().strip().split())\n",
    "\n",
    "def make_query(title, artist=None):\n",
    "    if not artist:\n",
    "        return f'track:\"{title}\"'\n",
    "    return f'track:\"{title}\" artist:\"{artist}\"'\n",
    "\n",
    "def atomic_save(df, path):\n",
    "    \"\"\"Save df to CSV atomically in the same directory.\"\"\"\n",
    "    os.makedirs(os.path.dirname(path), exist_ok=True)\n",
    "    tmp = tempfile.NamedTemporaryFile(delete=False, suffix=\".csv\", dir=os.path.dirname(path))\n",
    "    tmp.close()\n",
    "    df.to_csv(tmp.name, index=False)\n",
    "    # use move to replace atomically on most systems\n",
    "    shutil.move(tmp.name, path)\n",
    "\n",
    "def load_cache(path):\n",
    "    if os.path.exists(path):\n",
    "        df = pd.read_csv(path, dtype=str).fillna(\"\")\n",
    "        # ensure expected columns exist\n",
    "        for c in [\"title\",\"performer\",\"track_id\",\"artist_ids\",\"artist_genres\",\"spotify_found\"]:\n",
    "            if c not in df.columns:\n",
    "                df[c] = \"\"\n",
    "        return df\n",
    "    return pd.DataFrame(columns=[\"title\",\"performer\",\"track_id\",\"artist_ids\",\"artist_genres\",\"spotify_found\"])\n",
    "\n",
    "# ---------- LOAD BILLBOARD ----------\n",
    "if \"billboard\" in globals():\n",
    "    print(\"Using existing in-memory 'billboard' DataFrame\")\n",
    "else:\n",
    "    if not os.path.exists(BILLBOARD_CSV):\n",
    "        raise FileNotFoundError(f\"Couldn't find {BILLBOARD_CSV}. Place your input CSV in the script folder or adjust BILLBOARD_CSV.\")\n",
    "    billboard = pd.read_csv(BILLBOARD_CSV, dtype=str).fillna(\"\")\n",
    "\n",
    "# Optionally limit for testing\n",
    "if LIMIT_SONGS_FOR_TEST:\n",
    "    billboard = billboard.head(LIMIT_SONGS_FOR_TEST)\n",
    "\n",
    "# Ensure performer column exists\n",
    "if \"performer\" not in billboard.columns:\n",
    "    billboard[\"performer\"] = \"\"\n",
    "\n",
    "# ---------- INIT SPOTIPY CLIENT ----------\n",
    "creds = SpotifyClientCredentials()\n",
    "sp = Spotify(client_credentials_manager=creds, requests_timeout=REQUESTS_TIMEOUT, retries=RETRIES)\n",
    "\n",
    "# ---------- LOAD CACHE & RESUME CHECK ----------\n",
    "cache = load_cache(CACHE_PATH)\n",
    "\n",
    "# Resume info & build 'done' set\n",
    "if os.path.exists(CACHE_PATH):\n",
    "    cache = pd.read_csv(CACHE_PATH, dtype=str).fillna(\"\")\n",
    "    cached_rows = len(cache)\n",
    "    print(f\"✅ Found existing cache file: {CACHE_PATH}\")\n",
    "    print(f\"   → {cached_rows:,} rows already processed.\\n\")\n",
    "    if cached_rows > 0:\n",
    "        print(\"Last 5 cached entries:\")\n",
    "        print(cache.tail(5).to_string(index=False))\n",
    "else:\n",
    "    cache = pd.DataFrame(columns=[\"title\",\"performer\",\"track_id\",\"artist_ids\",\"artist_genres\",\"spotify_found\"])\n",
    "    cached_rows = 0\n",
    "    print(f\"🆕 No existing cache found — starting fresh.\\n\")\n",
    "\n",
    "# Build 'done' set (normalized keys)\n",
    "done = set((normalize(str(r[\"title\"])), normalize(str(r[\"performer\"]))) for _, r in cache.iterrows())\n",
    "print(f\"🔁 Will skip {len(done):,} already-processed (title, performer) pairs.\\n\")\n",
    "\n",
    "processed_since_save = 0\n",
    "\n",
    "# ---------- PREPARE REMAINING PAIRS (so tqdm shows remaining count) ----------\n",
    "unique_pairs = billboard[[\"song\",\"performer\"]].drop_duplicates().reset_index(drop=True)\n",
    "\n",
    "# ensure performer col exists (should already)\n",
    "if \"performer\" not in unique_pairs.columns:\n",
    "    unique_pairs[\"performer\"] = \"\"\n",
    "\n",
    "# normalized key cols\n",
    "unique_pairs[\"title_key\"] = unique_pairs[\"song\"].astype(str).apply(normalize)\n",
    "unique_pairs[\"performer_key\"] = unique_pairs[\"performer\"].astype(str).apply(normalize)\n",
    "\n",
    "# compute done flag\n",
    "unique_pairs[\"is_done\"] = unique_pairs.apply(lambda r: (r[\"title_key\"], r[\"performer_key\"]) in done, axis=1)\n",
    "\n",
    "total_pairs = len(unique_pairs)\n",
    "done_count = int(unique_pairs[\"is_done\"].sum())\n",
    "remaining_count = total_pairs - done_count\n",
    "\n",
    "print(f\"Total unique pairs: {total_pairs:,}\")\n",
    "print(f\"Already done (in cache): {done_count:,}\")\n",
    "print(f\"Remaining to process: {remaining_count:,}\\n\")\n",
    "\n",
    "# DataFrame of only remaining rows\n",
    "remaining_pairs = unique_pairs[~unique_pairs[\"is_done\"]].reset_index(drop=True)\n",
    "\n",
    "if remaining_count > 0:\n",
    "    print(\"First few remaining (song, performer):\")\n",
    "    print(remaining_pairs[[\"song\",\"performer\"]].head(5).to_string(index=False))\n",
    "else:\n",
    "    print(\"Nothing to process — cache already contains all unique pairs.\")\n",
    "\n",
    "# ---------- MAIN LOOP: iterate only over remaining_pairs ----------\n",
    "try:\n",
    "    for idx, row in enumerate(tqdm(remaining_pairs.itertuples(index=False), total=len(remaining_pairs))):\n",
    "        title = str(row.song)\n",
    "        performer = str(row.performer) if hasattr(row, \"performer\") else \"\"\n",
    "        qt, qa = normalize(title), normalize(performer)\n",
    "\n",
    "        # query\n",
    "        query = make_query(title, performer if performer else None)\n",
    "\n",
    "        # ---- search with retries, 429 handling & backoff ----\n",
    "        attempt = 0\n",
    "        items = []\n",
    "        while attempt < RETRIES:\n",
    "            try:\n",
    "                r = sp.search(q=query, type=\"track\", limit=5)\n",
    "                items = r.get(\"tracks\", {}).get(\"items\", [])\n",
    "                break\n",
    "            except HTTPError as e:\n",
    "                # detect rate-limit\n",
    "                resp = getattr(e, \"response\", None)\n",
    "                if resp is not None and resp.status_code == 429:\n",
    "                    retry_after = int(resp.headers.get(\"Retry-After\", 5))\n",
    "                    wait = retry_after + 1\n",
    "                    print(f\"[{idx}] 429 Rate-limited. Sleeping {wait}s (will checkpoint before sleeping).\")\n",
    "                    # checkpoint before sleeping\n",
    "                    try:\n",
    "                        atomic_save(cache, CACHE_PATH)\n",
    "                        print(f\"Checkpoint saved to {CACHE_PATH} before long sleep.\")\n",
    "                    except Exception as save_err:\n",
    "                        print(\"Warning: could not save cache before sleep:\", save_err)\n",
    "                    time.sleep(wait)\n",
    "                    continue\n",
    "                else:\n",
    "                    print(f\"[{idx}] HTTPError (non-429): {e}\")\n",
    "                    traceback.print_exc(limit=1)\n",
    "                    attempt += 1\n",
    "                    time.sleep((2 ** attempt) + random.uniform(0, 1))\n",
    "            except (ReadTimeout, ConnectionError) as e:\n",
    "                attempt += 1\n",
    "                wait = min((2 ** attempt) + random.uniform(0, 1), 60)\n",
    "                print(f\"[{idx}] Network error attempt {attempt}, waiting {wait:.1f}s: {e}\")\n",
    "                time.sleep(wait)\n",
    "            except Exception as e:\n",
    "                attempt += 1\n",
    "                print(f\"[{idx}] Unexpected search error attempt {attempt}: {e}\")\n",
    "                traceback.print_exc(limit=1)\n",
    "                time.sleep(min((2 ** attempt), 60))\n",
    "        else:\n",
    "            print(f\"[{idx}] Giving up search for '{title}' after {RETRIES} retries\")\n",
    "            items = []\n",
    "\n",
    "        # fallback broader search if no items\n",
    "        if not items:\n",
    "            try:\n",
    "                r2 = sp.search(q=f'track:\"{title}\"', type=\"track\", limit=10)\n",
    "                items = r2.get(\"tracks\", {}).get(\"items\", [])\n",
    "            except Exception as e:\n",
    "                print(f\"[{idx}] fallback search failed: {e}\")\n",
    "                items = []\n",
    "\n",
    "        # build entry\n",
    "        if not items:\n",
    "            entry = {\"title\": qt, \"performer\": qa, \"track_id\": \"\", \"artist_ids\": \"\", \"artist_genres\": \"\", \"spotify_found\": \"False\"}\n",
    "        else:\n",
    "            chosen = None\n",
    "            for it in items:\n",
    "                tname = normalize(it[\"name\"])\n",
    "                anames = [normalize(a[\"name\"]) for a in it[\"artists\"]]\n",
    "                if tname == qt and (qa == \"\" or qa in anames):\n",
    "                    chosen = it\n",
    "                    break\n",
    "            if not chosen:\n",
    "                chosen = items[0]\n",
    "\n",
    "            track_id = chosen.get(\"id\", \"\")\n",
    "            artist_ids = [a.get(\"id\",\"\") for a in chosen.get(\"artists\",[])]\n",
    "            # fetch artist genres (batch)\n",
    "            genres = []\n",
    "            try:\n",
    "                arts = sp.artists(artist_ids)\n",
    "                for art in arts.get(\"artists\", []):\n",
    "                    genres.extend(art.get(\"genres\", []))\n",
    "                genres = list(dict.fromkeys(genres))\n",
    "            except Exception as e:\n",
    "                print(f\"[{idx}] Failed to fetch artist info: {e}\")\n",
    "                genres = []\n",
    "\n",
    "            entry = {\n",
    "                \"title\": qt,\n",
    "                \"performer\": qa,\n",
    "                \"track_id\": track_id or \"\",\n",
    "                \"artist_ids\": \";\".join([a for a in artist_ids if a]),\n",
    "                \"artist_genres\": \";\".join(genres) if genres else \"\",\n",
    "                \"spotify_found\": \"True\"\n",
    "            }\n",
    "\n",
    "        # append to cache and mark done\n",
    "        cache = pd.concat([cache, pd.DataFrame([entry])], ignore_index=True)\n",
    "        done.add((qt, qa))\n",
    "        processed_since_save += 1\n",
    "\n",
    "        # checkpoint\n",
    "        if processed_since_save >= CHECKPOINT_EVERY:\n",
    "            print(f\"[{idx}] checkpoint: saving cache ({len(cache)} rows) -> {CACHE_PATH}\")\n",
    "            try:\n",
    "                atomic_save(cache, CACHE_PATH)\n",
    "            except Exception as e:\n",
    "                print(\"Failed to save cache:\", e)\n",
    "                traceback.print_exc(limit=1)\n",
    "            processed_since_save = 0\n",
    "\n",
    "        time.sleep(BASE_SLEEP)\n",
    "\n",
    "except KeyboardInterrupt:\n",
    "    print(\"Interrupted by user — saving cache before exiting...\")\n",
    "    atomic_save(cache, CACHE_PATH)\n",
    "    raise\n",
    "\n",
    "# final save\n",
    "atomic_save(cache, CACHE_PATH)\n",
    "print(f\"Cache saved: {CACHE_PATH} (rows: {len(cache)})\")\n",
    "\n",
    "# ---------- MERGE CACHE BACK INTO BILLBOARD ----------\n",
    "# normalize keys for merging\n",
    "billboard[\"song_key\"] = billboard[\"song\"].astype(str).str.lower().str.strip()\n",
    "billboard[\"performer_key\"] = billboard[\"performer\"].astype(str).str.lower().str.strip()\n",
    "\n",
    "# prepare res_df from cache\n",
    "res_df = cache.copy()\n",
    "res_df = res_df.rename(columns={\"title\": \"title_key\", \"performer\": \"performer_key\"})\n",
    "# fill missing columns\n",
    "for c in [\"title_key\", \"performer_key\", \"artist_genres\"]:\n",
    "    if c not in res_df.columns:\n",
    "        res_df[c] = \"\"\n",
    "res_df[\"genre_join\"] = res_df[\"artist_genres\"].apply(lambda g: \"; \".join([x for x in str(g).split(\";\") if x]) if g else \"\")\n",
    "\n",
    "# merge (left join to keep billboard rows)\n",
    "merged = billboard.merge(\n",
    "    res_df[[\"title_key\",\"performer_key\",\"genre_join\"]],\n",
    "    how=\"left\",\n",
    "    left_on=[\"song_key\",\"performer_key\"],\n",
    "    right_on=[\"title_key\",\"performer_key\"]\n",
    ")\n",
    "\n",
    "# drop helper columns and reorder if desired\n",
    "merged = merged.drop(columns=[\"title_key\",\"performer_key\",\"song_key\",\"performer_key\"], errors=\"ignore\")\n",
    "\n",
    "# save final merged CSV\n",
    "atomic_save(merged, OUTPUT_PATH)\n",
    "print(f\"Final merged file saved: {OUTPUT_PATH} (rows: {len(merged)})\")\n"
   ]
  },
  {
   "cell_type": "markdown",
   "metadata": {},
   "source": [
    "Based on this, can we attribute the missing genre-matching to pure-randomness? Is this sample of the billboard 100 chart even though we don't have every song representative? Is it okay to have missing values in this case? Basically, should we use this or should we just scratch the idea of trying to understand how the genres of charting music has changed over time?"
   ]
  }
 ],
 "metadata": {
  "colab": {
   "collapsed_sections": [],
   "name": "practice2a_ksm_fixed.ipynb",
   "provenance": []
  },
  "kernelspec": {
   "display_name": "base",
   "language": "python",
   "name": "python3"
  },
  "language_info": {
   "codemirror_mode": {
    "name": "ipython",
    "version": 3
   },
   "file_extension": ".py",
   "mimetype": "text/x-python",
   "name": "python",
   "nbconvert_exporter": "python",
   "pygments_lexer": "ipython3",
   "version": "3.13.5"
  },
  "otter": {
   "OK_FORMAT": true,
   "tests": {
    "q1": {
     "name": "q1",
     "points": [
      1,
      1,
      1,
      1,
      1,
      1,
      1,
      1,
      1,
      1
     ],
     "suites": [
      {
       "cases": [
        {
         "code": ">>> q1_1 == 37\nTrue",
         "hidden": false,
         "locked": false
        },
        {
         "code": ">>> q1_2 == 87\nTrue",
         "hidden": false,
         "locked": false
        },
        {
         "code": ">>> q1_3 == 99\nTrue",
         "hidden": false,
         "locked": false
        },
        {
         "code": ">>> q1_4 == [44, 70, 81, 47, 39, 75, 17, 35, 42, 78]\narray([ True,  True,  True,  True,  True,  True,  True,  True,  True,\n        True])",
         "hidden": false,
         "locked": false
        },
        {
         "code": ">>> import math\n>>> math.isclose(q1_5, 52.5, abs_tol=0.01)\nTrue",
         "hidden": false,
         "locked": false
        },
        {
         "code": ">>> q1_6 == 12\nTrue",
         "hidden": false,
         "locked": false
        },
        {
         "code": ">>> import math\n>>> math.isclose(q1_7, 59.16, abs_tol=0.01)\nTrue",
         "hidden": false,
         "locked": false
        },
        {
         "code": ">>> q1_8 == [9, 21, 36, 44, 47]\narray([ True,  True,  True,  True,  True])",
         "hidden": false,
         "locked": false
        },
        {
         "code": ">>> q1_9 == [9, 12, 9, 14, 9, 0, 1, 0, 3, 13]\narray([ True,  True,  True,  True,  True,  True,  True,  True,  True,\n        True])",
         "hidden": false,
         "locked": false
        },
        {
         "code": ">>> q1_10 == 3\nTrue",
         "hidden": false,
         "locked": false
        }
       ],
       "scored": true,
       "setup": "",
       "teardown": "",
       "type": "doctest"
      }
     ]
    },
    "q2": {
     "name": "q2",
     "points": [
      1,
      1,
      1,
      1,
      1,
      1,
      1,
      1
     ],
     "suites": [
      {
       "cases": [
        {
         "code": ">>> np.allclose(q2_1, [[3.52810469, 0.80031442], [1.95747597, 4.4817864], [3.73511598, -1.95455576], [1.90017684, -0.30271442], [-0.2064377, 0.821197]], atol=1e-05)\nTrue",
         "hidden": false,
         "locked": false
        },
        {
         "code": ">>> np.allclose(q2_2, [3.11188068, 0.95792804, 3.48777285, 0.902668, 0.01065413], atol=1e-05)\nTrue",
         "hidden": false,
         "locked": false
        },
        {
         "code": ">>> np.allclose(q2_3, [0.01555444, 1.85629043, -1.36188064, -0.53595997, 0.02599574], atol=1e-05)\nTrue",
         "hidden": false,
         "locked": false
        },
        {
         "code": ">>> round(q2_4, 5) == round(1.230297949608002, 5)\nTrue",
         "hidden": false,
         "locked": false
        },
        {
         "code": ">>> np.allclose(q2_5, [[1.76405235, 0.40015721], [1.86755799, -0.97727788], [0.95008842, -0.15135721]], atol=1e-05)\nTrue",
         "hidden": false,
         "locked": false
        },
        {
         "code": ">>> round(q2_6, 5) == round(1.8088688373462207, 5)\nTrue",
         "hidden": false,
         "locked": false
        },
        {
         "code": ">>> round(q2_7, 5) == round(2.001256514017904, 5)\nTrue",
         "hidden": false,
         "locked": false
        },
        {
         "code": ">>> np.allclose(q2_8, [0.0, 2.00125651, 1.38131852, 0.98321179, 1.86730039], atol=1e-05)\nTrue",
         "hidden": false,
         "locked": false
        }
       ],
       "scored": true,
       "setup": "",
       "teardown": "",
       "type": "doctest"
      }
     ]
    },
    "q3": {
     "name": "q3",
     "points": [
      1,
      1,
      1,
      1,
      1,
      1,
      1
     ],
     "suites": [
      {
       "cases": [
        {
         "code": ">>> import math\n>>> math.isclose(q3_1, -0.07, abs_tol=0.01)\nTrue",
         "hidden": false,
         "locked": false
        },
        {
         "code": ">>> def checkq32(q3_2):\n...     tmp = {2017: 0.92, 2018: 0.85, 2019: 0.98}\n...     flag = True\n...     for i, v in q3_2.items():\n...         flag = flag & (round(v, 2) == round(tmp[i], 2))\n...     return flag\n>>> checkq32(q3_2)\nTrue",
         "hidden": false,
         "locked": false
        },
        {
         "code": ">>> def checkq33(q3_3):\n...     tmp = {2017: 1.656, 2018: 1.53, 2019: 1.764}\n...     flag = True\n...     for i, v in q3_3.items():\n...         flag = flag & (round(v, 3) == round(tmp[i], 3))\n...     return flag\n>>> checkq33(q3_3)\nTrue",
         "hidden": false,
         "locked": false
        },
        {
         "code": ">>> round(q3_4, 5) == round(0.5923333333333335, 5)\nTrue",
         "hidden": false,
         "locked": false
        },
        {
         "code": ">>> q3_5 == 61\nTrue",
         "hidden": false,
         "locked": false
        },
        {
         "code": ">>> q3_6 == 46\nTrue",
         "hidden": false,
         "locked": false
        },
        {
         "code": ">>> def checkq37(q3_7):\n...     tmp = {2018: 0.85, 2015: 0.9, 2017: 0.92, 2019: 0.98, 2016: 1.01}\n...     flag = True\n...     for i, v in q3_7.items():\n...         flag = flag & (round(v, 2) == round(tmp[i], 2))\n...     return flag\n>>> checkq37(q3_7)\nTrue",
         "hidden": false,
         "locked": false
        }
       ],
       "scored": true,
       "setup": "",
       "teardown": "",
       "type": "doctest"
      }
     ]
    },
    "q4": {
     "name": "q4",
     "points": [
      1,
      1,
      1,
      1,
      1,
      1
     ],
     "suites": [
      {
       "cases": [
        {
         "code": ">>> def checkq41(q4_1):\n...     tmp = {'Happiness': 6.9396, 'Log GDP per capita': 10.925769, 'Social support': 0.914219, 'Healthy life expectancy': 68.2995, 'Freedom to make life choices': 0.84262, 'Generosity': 0.149892, 'Perceptions of corruption': 0.699715}\n...     flag = True\n...     for i, v in q4_1.items():\n...         flag = flag & (round(v, 3) == round(tmp[i], 3))\n...     return flag\n>>> checkq41(q4_1)\nTrue",
         "hidden": false,
         "locked": false
        },
        {
         "code": ">>> def checkq42(q4_2):\n...     tmp = {'Happiness': 6.0218, 'Log GDP per capita': 10.340017, 'Social support': 0.93473, 'Healthy life expectancy': 68.604958, 'Freedom to make life choices': 0.877709, 'Generosity': -0.111698, 'Perceptions of corruption': 0.623074}\n...     flag = True\n...     for i, v in q4_2.items():\n...         flag = flag & (round(v, 3) == round(tmp[i], 3))\n...     return flag\n>>> checkq42(q4_2)\nTrue",
         "hidden": false,
         "locked": false
        },
        {
         "code": ">>> round(q4_3, 5) == round(5.47323986284967, 5)\nTrue",
         "hidden": false,
         "locked": false
        },
        {
         "code": ">>> q4_4 == 53\nTrue",
         "hidden": false,
         "locked": false
        },
        {
         "code": ">>> q4_5 == 57\nTrue",
         "hidden": false,
         "locked": false
        },
        {
         "code": ">>> q4_6 == 5\nTrue",
         "hidden": false,
         "locked": false
        }
       ],
       "scored": true,
       "setup": "",
       "teardown": "",
       "type": "doctest"
      }
     ]
    }
   }
  }
 },
 "nbformat": 4,
 "nbformat_minor": 4
}
